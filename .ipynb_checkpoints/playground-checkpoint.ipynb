{
 "cells": [
  {
   "cell_type": "code",
   "execution_count": 11,
   "metadata": {},
   "outputs": [],
   "source": [
    "from tabulate import tabulate\n",
    "import pandas as pd\n",
    "from modules.datamodel import mind"
   ]
  },
  {
   "cell_type": "code",
   "execution_count": 44,
   "metadata": {},
   "outputs": [
    {
     "name": "stdout",
     "output_type": "stream",
     "text": [
      "[{'decider': True, 'amount': 1, 'name': 'Daniel', 'synonym': 'a healthcare aide', 'type': 'Stakeholder'}, {'decider': False, 'amount': 1, 'name': 'Patrick', 'synonym': 'a patient', 'type': 'Stakeholder'}, {'decider': False, 'amount': 1, 'name': 'Inga', 'synonym': 'an overseer', 'type': 'Stakeholder'}, {'associated': ['can', 'notify'], 'type': 'Option', 'consequences': [5]}, {'affected_stakeholder': 'Patrick', 'impact': -1, 'type': 'Consequence'}, {'associated': ['could', 'do'], 'type': 'Option', 'consequences': [7]}, {'affected_stakeholder': 'Patrick', 'impact': 0, 'type': 'Consequence'}]\n",
      "        Option 1 Option 2\n",
      "Daniel         0        0\n",
      "Patrick       -1        0\n",
      "Inga           0        0\n"
     ]
    }
   ],
   "source": [
    "data = mind.get_all()\n",
    "\n",
    "options = [o for o in data if o['type'] == 'Option']\n",
    "\n",
    "sh_index = [s['name'] for s in data if s['type'] == 'Stakeholder']\n",
    "opt_columns = ['Option ' + str(i+1) for i in range(len(options))]\n",
    "\n",
    "df = pd.DataFrame(columns=opt_columns)\n",
    "\n",
    "for sh in sh_index:\n",
    "    row = []\n",
    "    for opt in options:\n",
    "        imp = 0\n",
    "        for c in opt['consequences']:\n",
    "            cons = data[c-1]\n",
    "            if cons['affected_stakeholder'] == sh:\n",
    "                sh = \n",
    "                if amount == -1:\n",
    "                    imp += cons['impact'] * 2\n",
    "                else:\n",
    "                    imp += cons['impact'] * amount\n",
    "        row.append(imp)\n",
    "    df.loc[sh] = row\n",
    "    \n",
    "print(df.to_string())"
   ]
  },
  {
   "cell_type": "code",
   "execution_count": null,
   "metadata": {},
   "outputs": [],
   "source": []
  }
 ],
 "metadata": {
  "kernelspec": {
   "display_name": "Python 3",
   "language": "python",
   "name": "python3"
  },
  "language_info": {
   "codemirror_mode": {
    "name": "ipython",
    "version": 3
   },
   "file_extension": ".py",
   "mimetype": "text/x-python",
   "name": "python",
   "nbconvert_exporter": "python",
   "pygments_lexer": "ipython3",
   "version": "3.7.3"
  }
 },
 "nbformat": 4,
 "nbformat_minor": 2
}
